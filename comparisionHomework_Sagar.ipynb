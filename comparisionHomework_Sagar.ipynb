{
  "nbformat": 4,
  "nbformat_minor": 0,
  "metadata": {
    "colab": {
      "name": "comparisionHomework Sagar.ipynb",
      "provenance": [],
      "collapsed_sections": [],
      "toc_visible": true
    },
    "kernelspec": {
      "name": "python3",
      "display_name": "Python 3"
    }
  },
  "cells": [
    {
      "cell_type": "markdown",
      "metadata": {
        "id": "TKz_3EJdKZf8",
        "colab_type": "text"
      },
      "source": [
        "---\n",
        "---\n",
        "# Comparison Homework\n",
        "## Name: Sagar Kumar BharatKumar Pandya \n",
        "### SJUID: 10713159\n",
        "#### file: comparisonHomework.ipynb\n",
        "#### students may with to start at https://colab.research.google.com/notebooks/intro.ipynb\n",
        "#### Copyright © George J. Grevera, 2020. All rights reserved.\n",
        "---\n",
        "---"
      ]
    },
    {
      "cell_type": "markdown",
      "metadata": {
        "id": "YEeEK5O73-Dc",
        "colab_type": "text"
      },
      "source": [
        "Let's explore some tradional approaches to comparing two signals/samples/arrays. Let $A$ and $B$ be two vectors (i.e., 1D arrays) of dimensionality (i.e., number of components or simply length) $d = len(A) = len(B)$. You may think of an array of values, $A$, as a point in $d$-dimensional space.\n",
        "\n",
        "- Define max absolute difference \n",
        "$maxAD(A,B) = \\max{ {|a_i-b_i|} }$.\n",
        "\n",
        "- It is often useful to determine \"where\" the max(es) is/are, so define (the set) $argmaxAD(A,B) = \\{ i \\ |\\  \\forall j \\ |a_j-b_j| <= |a_i-b_i| \\}$ (see https://en.wikipedia.org/wiki/Arg_max).\n",
        "\n",
        "- Define sum of absolute difference $SAD = \\sum_{i}{ |a_i-b_i| }$, \n",
        "\n",
        "- Define sum of squared difference $SSD = \\sum_{i}{ (a_i-b_i)^2 }$.\n",
        "\n",
        "- They (i.e., the vectors $A$ and $B$) can also be viewed as two points in $d$-dimensional space as well. The Euclidean distance between two points in 2d is $euc_{2d}(A,B) = \\sqrt{(a_1-b_1)^2 + (a_2-b_2)^2}$, and this generalizes to $euc(A,B) = \\sqrt{\\sum_{i}{(a_i-b_i)^2}}$. Define the general $euc(A,B)$.\n",
        "\n",
        "- Define mean absolute difference $uAD(A,B) = SAD(A,B) / d$.\n",
        "\n",
        "- Define mean squared difference $uSD(A,B) = SSD(A,B) / d$.\n",
        "\n",
        "- Define root mean squared difference $rmsd(A,B) = \\sqrt{ uSD(A,B) }$.\n",
        "\n",
        "- Define a function called $vLen(A)$ that returns the length of the vector, $A$. (Hint: The length of a vector is its distance from the origin). It must use at least one of your above functions.\n",
        "\n",
        "Complete the Python functions below. For full credit, please note the following.\n",
        "- __Other than len(), math.sqrt(), abs(), and append(), do not use any other Python function except for the ones that you define below.__ \n",
        "- Try to use your own functions that you define as much as possible. \n",
        "- As always, do not cut-n-paste things that you stumble upon on the internet and certainly do not hand in each other's code. \n",
        "- If there is a discrepancy between the above equations and ones that you find on the internet, please bring it to my attention. Do not ignore those above the above and implement something else."
      ]
    },
    {
      "cell_type": "markdown",
      "metadata": {
        "id": "ahcjvMFl2_Ls",
        "colab_type": "text"
      },
      "source": [
        "### Extra Credit\n",
        "For extra credit, define pcc(A,B) which calculates Pearson correlation coefficient (see https://en.wikipedia.org/wiki/Pearson_correlation_coefficient):\n",
        "\n",
        "$ \\large \n",
        "p_{A,B} = \\frac {cov(A,B)} {\\sigma_A \\sigma_B} = \\frac {E[(A-\\mu_A)(B-\\mu_B)]} {\\sigma_A \\sigma_B}$.\n",
        "\n",
        "Do not use another Python functions other than len(), math.sqrt(), abs(), and append(). (You may use your own.)"
      ]
    },
    {
      "cell_type": "markdown",
      "metadata": {
        "id": "b5BSzSAnElY0",
        "colab_type": "text"
      },
      "source": [
        "---"
      ]
    },
    {
      "cell_type": "markdown",
      "metadata": {
        "id": "E_LqgJAJ50kh",
        "colab_type": "text"
      },
      "source": [
        "### Answers"
      ]
    },
    {
      "cell_type": "code",
      "metadata": {
        "id": "KG6NnQLn-w17",
        "colab_type": "code",
        "colab": {}
      },
      "source": [
        "#you may import anything you wish but only use the functions mentioned above.\n",
        "import math"
      ],
      "execution_count": 0,
      "outputs": []
    },
    {
      "cell_type": "code",
      "metadata": {
        "id": "Jq3nnqLlr3Hp",
        "colab_type": "code",
        "colab": {
          "base_uri": "https://localhost:8080/",
          "height": 34
        },
        "outputId": "0e3c6ce1-be65-4031-ab11-28a791922600"
      },
      "source": [
        "def vLen(A):\n",
        "    return len(A)\n",
        "\n",
        "print(vLen([12,23,34]))\n"
      ],
      "execution_count": 31,
      "outputs": [
        {
          "output_type": "stream",
          "text": [
            "3\n"
          ],
          "name": "stdout"
        }
      ]
    },
    {
      "cell_type": "code",
      "metadata": {
        "id": "F_M5n4BJr-Ip",
        "colab_type": "code",
        "colab": {}
      },
      "source": [
        "def maxAD(A,B):\n",
        "    d=vLen(A)\n",
        "    max=abs(A[0]-B[0])\n",
        "    for i in range(1,d):\n",
        "        if(abs(A[i]-B[i])>max):\n",
        "            max=abs(A[i]-B[i]);\n",
        "    return max"
      ],
      "execution_count": 0,
      "outputs": []
    },
    {
      "cell_type": "code",
      "metadata": {
        "id": "Zomd8XaRsBQ8",
        "colab_type": "code",
        "colab": {
          "base_uri": "https://localhost:8080/",
          "height": 34
        },
        "outputId": "bf1fb152-3ec5-4773-92e2-26ef8aa39b2d"
      },
      "source": [
        "print(maxAD([12,23,34],[12,20,15]));"
      ],
      "execution_count": 33,
      "outputs": [
        {
          "output_type": "stream",
          "text": [
            "19\n"
          ],
          "name": "stdout"
        }
      ]
    },
    {
      "cell_type": "code",
      "metadata": {
        "id": "_VI8i4UcsJxJ",
        "colab_type": "code",
        "colab": {
          "base_uri": "https://localhost:8080/",
          "height": 34
        },
        "outputId": "64cf8f89-84f8-4250-c000-5e791bc95308"
      },
      "source": [
        "def argmaxAD(A,B):\n",
        "    d=vLen(A)\n",
        "    l=[]\n",
        "    for i in range(d):\n",
        "        for j in range(d):\n",
        "            if(abs(A[i]-B[i])>=abs(A[j]-B[j])):\n",
        "                if i not in l:\n",
        "                    l.append(i);\n",
        "    return l    \n",
        "        \n",
        "print(argmaxAD([12,23,34],[12,20,15]));"
      ],
      "execution_count": 34,
      "outputs": [
        {
          "output_type": "stream",
          "text": [
            "[0, 1, 2]\n"
          ],
          "name": "stdout"
        }
      ]
    },
    {
      "cell_type": "code",
      "metadata": {
        "id": "MoGXLeM2sNl3",
        "colab_type": "code",
        "colab": {
          "base_uri": "https://localhost:8080/",
          "height": 34
        },
        "outputId": "f2e57580-9e8f-4847-a44f-6e1aa400a05f"
      },
      "source": [
        "def SAD(A,B):\n",
        "    d=vLen(A)\n",
        "    s=0\n",
        "    for i in range(d):\n",
        "        s+=abs(A[i]-B[i])\n",
        "    return s\n",
        "print(SAD([12,23,34],[12,20,15]));"
      ],
      "execution_count": 35,
      "outputs": [
        {
          "output_type": "stream",
          "text": [
            "22\n"
          ],
          "name": "stdout"
        }
      ]
    },
    {
      "cell_type": "code",
      "metadata": {
        "id": "mMwX11vosRO9",
        "colab_type": "code",
        "colab": {
          "base_uri": "https://localhost:8080/",
          "height": 34
        },
        "outputId": "a93ef89a-b4a2-4511-a504-e94fd31e402e"
      },
      "source": [
        "def SSD(A,B):\n",
        "    d=vLen(A)\n",
        "    s=0\n",
        "    for i in range(d):\n",
        "        s+=(A[i]-B[i])**2\n",
        "    return s\n",
        "print(SSD([12,23,34],[12,20,15]));"
      ],
      "execution_count": 36,
      "outputs": [
        {
          "output_type": "stream",
          "text": [
            "370\n"
          ],
          "name": "stdout"
        }
      ]
    },
    {
      "cell_type": "code",
      "metadata": {
        "id": "PmPruWcbsUGm",
        "colab_type": "code",
        "colab": {
          "base_uri": "https://localhost:8080/",
          "height": 34
        },
        "outputId": "61e55497-161f-40f6-d5b1-afc1087426dc"
      },
      "source": [
        "def euc(A,B):\n",
        "    return math.sqrt(SSD(A,B))\n",
        "\n",
        "print(euc([12,23,34],[12,20,15]));\n"
      ],
      "execution_count": 37,
      "outputs": [
        {
          "output_type": "stream",
          "text": [
            "19.235384061671343\n"
          ],
          "name": "stdout"
        }
      ]
    },
    {
      "cell_type": "code",
      "metadata": {
        "id": "HiKomHkOsXWB",
        "colab_type": "code",
        "colab": {
          "base_uri": "https://localhost:8080/",
          "height": 34
        },
        "outputId": "0462e106-6222-404b-ce15-33b0ff13856b"
      },
      "source": [
        "def uAD(A,B):\n",
        "    d=vLen(A)\n",
        "    return SAD(A,B)/d\n",
        "\n",
        "print(uAD([12,23,34],[12,20,15]));"
      ],
      "execution_count": 38,
      "outputs": [
        {
          "output_type": "stream",
          "text": [
            "7.333333333333333\n"
          ],
          "name": "stdout"
        }
      ]
    },
    {
      "cell_type": "code",
      "metadata": {
        "id": "vwDxhypTsaIx",
        "colab_type": "code",
        "colab": {
          "base_uri": "https://localhost:8080/",
          "height": 34
        },
        "outputId": "82447e88-f551-4f3f-d978-37d3edea0e96"
      },
      "source": [
        "def uSD(A,B):\n",
        "    d=vLen(A)\n",
        "    return SSD(A,B)/d\n",
        "\n",
        "print(uSD([12,23,34],[12,20,15]));"
      ],
      "execution_count": 39,
      "outputs": [
        {
          "output_type": "stream",
          "text": [
            "123.33333333333333\n"
          ],
          "name": "stdout"
        }
      ]
    },
    {
      "cell_type": "code",
      "metadata": {
        "id": "SX1le7bosyrw",
        "colab_type": "code",
        "colab": {
          "base_uri": "https://localhost:8080/",
          "height": 34
        },
        "outputId": "6a759302-0786-4509-c202-2796a99c8676"
      },
      "source": [
        "def rmsd(A,B):\n",
        "    return math.sqrt(uSD(A,B))\n",
        "\n",
        "print(rmsd([12,23,34],[12,20,15]));"
      ],
      "execution_count": 40,
      "outputs": [
        {
          "output_type": "stream",
          "text": [
            "11.105554165971787\n"
          ],
          "name": "stdout"
        }
      ]
    },
    {
      "cell_type": "code",
      "metadata": {
        "id": "oOStLWQ2hh9A",
        "colab_type": "code",
        "colab": {}
      },
      "source": [
        "def vLen ( A ):\n",
        "    return len(A)"
      ],
      "execution_count": 0,
      "outputs": []
    },
    {
      "cell_type": "markdown",
      "metadata": {
        "id": "y46VpR1yEZcg",
        "colab_type": "text"
      },
      "source": [
        "---\n",
        "\n",
        "### Enter your tests here."
      ]
    },
    {
      "cell_type": "code",
      "metadata": {
        "id": "RMs_uMdItfgl",
        "colab_type": "code",
        "outputId": "4a464b69-0661-4c92-f5c7-226f61da3cbf",
        "colab": {
          "base_uri": "https://localhost:8080/",
          "height": 189
        }
      },
      "source": [
        "A = [ 1,  2, 3, 4]\n",
        "B = [10, 20, 3, 4]  \n",
        "print('maxAD(A,A)=',maxAD(A,A),  sep=' ' ) \n",
        "print('maxAD(A,B)=',maxAD(A,B),  sep=' ' )\n",
        "print('argmaxAD ( A,B )=',argmaxAD ( A, B) , sep=' ' )\n",
        "print('SAD(A,B)=',SAD (A,B), sep=' ' )\n",
        "print('SSD(A,B)=', SSD(A,B) , sep=' ' )\n",
        "print('euc(A,B)=', euc(A,B), sep=' ' )\n",
        "print('uAD(A,B)=', uAD(A,B), sep=' ' )\n",
        "print('uSD(A,B)=', uSD(A,B), sep=' ' )\n",
        "print('rmsd(A,B)=', rmsd(A,B) , sep=' ')\n",
        "print('vLen(A)=', vLen(A),sep=' ')\n",
        "#print(pcc(A,B))"
      ],
      "execution_count": 42,
      "outputs": [
        {
          "output_type": "stream",
          "text": [
            "maxAD(A,A)= 0\n",
            "maxAD(A,B)= 18\n",
            "argmaxAD ( A,B )= [0, 1, 2, 3]\n",
            "SAD(A,B)= 27\n",
            "SSD(A,B)= 405\n",
            "euc(A,B)= 20.12461179749811\n",
            "uAD(A,B)= 6.75\n",
            "uSD(A,B)= 101.25\n",
            "rmsd(A,B)= 10.062305898749054\n",
            "vLen(A)= 4\n"
          ],
          "name": "stdout"
        }
      ]
    }
  ]
}